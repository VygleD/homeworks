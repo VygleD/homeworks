{
 "cells": [
  {
   "cell_type": "markdown",
   "metadata": {},
   "source": [
    "# Задание 1\n",
    "Дана переменная, в которой хранится слово из латинских букв. Напишите код, который выводит на экран:\n",
    "\n",
    "среднюю букву, если число букв в слове нечетное;\n",
    "две средних буквы, если число букв четное.\n"
   ]
  },
  {
   "cell_type": "code",
   "execution_count": 1,
   "metadata": {},
   "outputs": [
    {
     "name": "stdout",
     "output_type": "stream",
     "text": [
      "Enter the word - тестирование\n",
      "ро\n"
     ]
    }
   ],
   "source": [
    "word = input('Enter the word - ')\n",
    "\n",
    "int(len(word)/2)\n",
    "if len(word) % 2 == 0:\n",
    "    print(word[int(len(word)/2)-1:int(len(word)/2)+1])\n",
    "else:\n",
    "    print(word[int(len(word)/2)])\n",
    "    "
   ]
  },
  {
   "cell_type": "markdown",
   "metadata": {},
   "source": [
    "# Задание 2\n",
    "Напишите программу, которая последовательно запрашивает у пользователя числа (по одному за раз) и после первого нуля выводит сумму всех ранее введенных чисел.\n",
    "\n",
    "Примеры работы программы:\n",
    "\n",
    "Введите число:\n",
    "1\n",
    "\n",
    "Введите число:\n",
    "4\n",
    "\n",
    "Введите число:\n",
    "6\n",
    "\n",
    "Введите число:\n",
    "0\n",
    "Результат:\n",
    "11\n",
    "\n",
    "Введите число:\n",
    "0\n",
    "Результат:\n",
    "0"
   ]
  },
  {
   "cell_type": "code",
   "execution_count": 3,
   "metadata": {},
   "outputs": [
    {
     "name": "stdout",
     "output_type": "stream",
     "text": [
      "enter the number - 1\n",
      "enter the number - 4\n",
      "enter the number - 6\n",
      "enter the number - 0\n",
      "summury =  11\n"
     ]
    }
   ],
   "source": [
    "x = int(input('enter the number - '))\n",
    "sum = x\n",
    "\n",
    "while x != 0:\n",
    "    x = int(input('enter the number - '))\n",
    "    sum = sum + x\n",
    "\n",
    "print('summury = ',sum)"
   ]
  },
  {
   "cell_type": "markdown",
   "metadata": {},
   "source": [
    "# Задание 3\n",
    "Мы делаем MVP dating-сервиса, и у нас есть список парней и девушек.\n",
    "Выдвигаем гипотезу: лучшие рекомендации мы получим, если просто отсортируем имена по алфавиту и познакомим людей с одинаковыми индексами после сортировки! Но мы не будем никого знакомить, если кто-то может остаться без пары"
   ]
  },
  {
   "cell_type": "code",
   "execution_count": 5,
   "metadata": {},
   "outputs": [
    {
     "name": "stdout",
     "output_type": "stream",
     "text": [
      "Ideal couples :\n",
      "Alex  and  Emma\n",
      "Arthur  and  Kate\n",
      "John  and  Kira\n",
      "Peter  and  Liza\n",
      "Richard  and  Trisha\n"
     ]
    }
   ],
   "source": [
    "boys = ['Peter', 'Alex', 'John', 'Arthur', 'Richard'] \n",
    "girls = ['Kate', 'Liza', 'Kira', 'Emma', 'Trisha'] \n",
    "\n",
    "#boys = ['Peter', 'Alex', 'John', 'Arthur', 'Richard', 'Michael']\n",
    "#girls = ['Kate', 'Liza', 'Kira', 'Emma', 'Trisha']\n",
    "\n",
    "if len(boys) == len(girls):\n",
    "    couples = zip(sorted(boys),sorted(girls))\n",
    "    print('Ideal couples :')\n",
    "    for couple in couples:\n",
    "        print(couple[0],' and ',couple[1])\n",
    "else:\n",
    "    print(' Attention! Someone may be left without a partner!')\n"
   ]
  },
  {
   "cell_type": "markdown",
   "metadata": {},
   "source": [
    "# Задание 4\n",
    "У нас есть список, содержащий информацию о среднедневной температуре в Фаренгейтах за произвольный период по странам (структура данных в примере). Необходимо написать код, который рассчитает среднюю температуру за период в Цельсиях(!) для каждой страны."
   ]
  },
  {
   "cell_type": "code",
   "execution_count": 6,
   "metadata": {},
   "outputs": [
    {
     "name": "stdout",
     "output_type": "stream",
     "text": [
      "Thailand  avarage temperature in Celsius is  23.85714285714285\n",
      "Germany  avarage temperature in Celsius is  13.799999999999999\n",
      "Russia  avarage temperature in Celsius is  3.714285714285717\n",
      "Poland  avarage temperature in Celsius is  11.999999999999996\n"
     ]
    }
   ],
   "source": [
    "# данные из примера задачи\n",
    "# в данном примере имеем список, состоящий из 4х списков, \n",
    "# каждый из этих подсписков состоит из строки и еще одного списка\n",
    "\n",
    "countries_temperature = [\n",
    "['Thailand', [75.2, 77, 78.8, 73.4, 68, 75.2, 77]],\n",
    "['Germany', [57.2, 55.4, 59, 59, 53.6]],\n",
    "['Russia', [35.6, 37.4, 39.2, 41, 42.8, 39.2, 35.6]],\n",
    "['Poland', [50, 50, 53.6, 57.2, 55.4, 55.4]]\n",
    "]\n",
    "\n",
    "# начинаем цикл для перебора элементов начального списка\n",
    "for country in countries_temperature:\n",
    "    # запускаем еще один цикл для перебора списка с температурами, чтобы подсчитать сумму значений температуры по каждой из стран\n",
    "    tempF = 0.0\n",
    "    for x in country[1]:\n",
    "        tempF += float(x)\n",
    "    # рассчет средней температуры и первод в градсы Цельсия    \n",
    "    average_tempC = ((tempF / len(country[1])) -32) * 5/9 # тут формула перевода градусов F в C (32°F−32)×5/9=0°C\n",
    "    \n",
    "    # вывод результатов\n",
    "    print(country[0],' avarage temperature in Celsius is ', average_tempC)\n"
   ]
  },
  {
   "cell_type": "markdown",
   "metadata": {},
   "source": [
    "# Задание 5 (необязательное)\n",
    "Дан поток логов по количеству просмотренных страниц для каждого пользователя. Вам необходимо написать алгоритм, который считает среднее значение просмотров на пользователя. Т. е. надо посчитать отношение суммы всех просмотров к количеству уникальных пользователей.\n",
    "\n",
    "Примеры работы программы:\n",
    "\n",
    "stream = [\n",
    "‘2018-01-01,user1,3’,\n",
    "‘2018-01-07,user1,4’,\n",
    "‘2018-03-29,user1,1’,\n",
    "‘2018-04-04,user1,13’,\n",
    "‘2018-01-05,user2,7’,\n",
    "‘2018-06-14,user3,4’,\n",
    "‘2018-07-02,user3,10’,\n",
    "‘2018-03-21,user4,19’,\n",
    "‘2018-03-22,user4,4’,\n",
    "‘2018-04-22,user4,8’,\n",
    "‘2018-05-03,user4,9’,\n",
    "‘2018-05-11,user4,11’,\n",
    "]\n",
    "Результат:\n",
    "Среднее количество просмотров на уникального пользователя: 23.25\n",
    "\n",
    "stream = [\n",
    "‘2018-01-01,user100,150’,\n",
    "‘2018-01-07,user99,205’,\n",
    "‘2018-03-29,user1001,81’\n",
    "]\n",
    "Результат:\n",
    "Среднее количество просмотров на уникального пользователя: 145.33"
   ]
  },
  {
   "cell_type": "code",
   "execution_count": 8,
   "metadata": {},
   "outputs": [
    {
     "name": "stdout",
     "output_type": "stream",
     "text": [
      "average views per unique user is  145.33333333333334\n"
     ]
    }
   ],
   "source": [
    "'''\n",
    "stream = [\n",
    "'2018-01-01,user1,3',\n",
    "'2018-01-07,user1,4',\n",
    "'2018-03-29,user1,1',\n",
    "'2018-04-04,user1,13',\n",
    "'2018-01-05,user2,7',\n",
    "'2018-06-14,user3,4',\n",
    "'2018-07-02,user3,10',\n",
    "'2018-03-21,user4,19',\n",
    "'2018-03-22,user4,4',\n",
    "'2018-04-22,user4,8',\n",
    "'2018-05-03,user4,9',\n",
    "'2018-05-11,user4,11',\n",
    "]\n",
    "'''\n",
    "stream = ['2018-01-01,user100,150', '2018-01-07,user99,205', '2018-03-29,user1001,81']\n",
    "\n",
    "# ввожу счетчик количесва просмотров\n",
    "# и создаю пустой список, для дальнейшего определения уникальных пользователей\n",
    "count = 0\n",
    "unique = []\n",
    "\n",
    "# теперь перебираю каждый элемент - строку в списке\n",
    "# разделяю эту строку по запятой и создаю из нее новый подсписок\n",
    "# в котором последний элемент это количесво просмотров => плюсую его к счетчику count\n",
    "# а каждый второй элемент - имя пользователя, если его нет в списке уникальных пользователе unique, то добавляю в этот список\n",
    "\n",
    "for x in stream:\n",
    "    stream_list = x.split(',')\n",
    "    count += int(stream_list[-1])\n",
    "    if stream_list[1] not in unique:\n",
    "        unique.append(stream_list[1])\n",
    "    \n",
    "# количество уникальных пользователей = длине списка unique\n",
    "print('average views per unique user is ',count/len(unique))\n",
    "    \n"
   ]
  },
  {
   "cell_type": "markdown",
   "metadata": {},
   "source": [
    "# Задание 6 (необязательное)\n",
    "Необходимо у пользователя запрашивать набор чисел разделенных пробелом. В результате должны выводиться числа, которые повторяются в вводе более одного раза.\n",
    "\n",
    "Примеры работы программы:\n",
    "\n",
    "Введите числа:\n",
    "4 8 0 3 4 2 0 3\n",
    "Результат:\n",
    "0 3 4\n",
    "\n",
    "Введите числа:\n",
    "1 1 2 2 3 3\n",
    "Результат:\n",
    "1 2 3\n",
    "\n",
    "Введите числа:\n",
    "1 1 1 1 1 2 2 2\n",
    "Результат:\n",
    "1 2"
   ]
  },
  {
   "cell_type": "code",
   "execution_count": 9,
   "metadata": {},
   "outputs": [
    {
     "name": "stdout",
     "output_type": "stream",
     "text": [
      "enter numbers separated by space 4 8 0 3 4 2 0 3 \n",
      "Result : 0  3  4  "
     ]
    }
   ],
   "source": [
    "# запрашиваем и вводим строку с данными\n",
    "print('enter numbers separated by space ', end='')\n",
    "nums = input()\n",
    "\n",
    "# разделяем строку числами по пробелу и записываем каждое чился в новый список\n",
    "nums_list = nums.split(' ')\n",
    "\n",
    "# задаем новый пустой список для дальнейшего определения уникальных чисел в списке\n",
    "unique = []\n",
    "\n",
    "# тут логика следующаа:\n",
    "# беру каждый элемент из списка и сравниваю его с каждым элементом этого же списка\n",
    "# если он встретиля хотя бы 2 раза (это отслеживаю по счетчику count) \n",
    "# и если его еще нет в списке для уникальных чисел => тогда добавляе его в этот список для уникальных чисел\n",
    "for x in nums_list:\n",
    "    count = 0\n",
    "    for y in nums_list:\n",
    "        if x == y:\n",
    "            count += 1\n",
    "            if (count == 2) and (x not in unique):\n",
    "                unique.append(x)\n",
    "                break\n",
    "            \n",
    "# форматирую спусок уникальных чисел встречающихся хотя бы 2 раза в int\n",
    "# чтобы потом отсортировать его по возрастанию и распечатать               \n",
    "\n",
    "unique_int = [int(y) for y in unique]\n",
    "print('Result : ', end='')\n",
    "for z in sorted(unique_int):\n",
    "    print(z,' ', end='')"
   ]
  }
 ],
 "metadata": {
  "kernelspec": {
   "display_name": "Python 3",
   "language": "python",
   "name": "python3"
  },
  "language_info": {
   "codemirror_mode": {
    "name": "ipython",
    "version": 3
   },
   "file_extension": ".py",
   "mimetype": "text/x-python",
   "name": "python",
   "nbconvert_exporter": "python",
   "pygments_lexer": "ipython3",
   "version": "3.8.5"
  }
 },
 "nbformat": 4,
 "nbformat_minor": 4
}
