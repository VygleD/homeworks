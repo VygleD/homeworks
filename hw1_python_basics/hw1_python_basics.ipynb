{
 "cells": [
  {
   "cell_type": "markdown",
   "metadata": {},
   "source": [
    "# Задание 1\n",
    "Даны 2 переменных, в которых хранятся строки произвольной длины: phrase_1 и phrase_2.\n",
    "Напишите код, который проверяет какая из этих строк длиннее."
   ]
  },
  {
   "cell_type": "code",
   "execution_count": 1,
   "metadata": {},
   "outputs": [
    {
     "name": "stdout",
     "output_type": "stream",
     "text": [
      "enter the first phrase - the first phrase\n",
      "enter the second phrase - the second phrase\n",
      "phrase 2 is longer then phrase 1\n"
     ]
    }
   ],
   "source": [
    "phrase_1 = input('enter the first phrase - ')\n",
    "phrase_2 = input('enter the second phrase - ')\n",
    "if len(phrase_1) > len(phrase_2):\n",
    "    print('phrase 1 is longer then phrase 2')\n",
    "elif len(phrase_1) < len(phrase_2):\n",
    "    print('phrase 2 is longer then phrase 1')\n",
    "else:\n",
    "    print('phrase lengths are equal')"
   ]
  },
  {
   "cell_type": "markdown",
   "metadata": {},
   "source": [
    "# Задание 2\n",
    "\n",
    "Дана переменная, в которой хранится четырехзначное число (год). Необходимо написать программу, которая выведет, является ли данный год високосным или обычным."
   ]
  },
  {
   "cell_type": "code",
   "execution_count": 2,
   "metadata": {},
   "outputs": [
    {
     "name": "stdout",
     "output_type": "stream",
     "text": [
      "enter the year - 1567\n",
      "common year\n"
     ]
    }
   ],
   "source": [
    "year = int(input('enter the year - '))\n",
    "if  (year % 400 == 0) or ((year % 4 == 0) and (year % 100 != 0)):\n",
    "    print('leap year')\n",
    "else:\n",
    "    print('common year')"
   ]
  },
  {
   "cell_type": "markdown",
   "metadata": {},
   "source": [
    "# Задание 3\n",
    "Необходимо написать программу, которая будет запрашивать у пользователя месяц и дату рождения и выводить соответствующий знак зодиака."
   ]
  },
  {
   "cell_type": "code",
   "execution_count": 3,
   "metadata": {},
   "outputs": [
    {
     "name": "stdout",
     "output_type": "stream",
     "text": [
      "enter day in numbers - 15\n",
      "enter the month  with a capital letter - April\n",
      "15/04\n",
      "Aries - Овен\n"
     ]
    }
   ],
   "source": [
    "\n",
    "# ввод числа и месяца \n",
    "\n",
    "day = input('enter day in numbers - ')\n",
    "month = input('enter the month  with a capital letter - ')\n",
    "\n",
    "\n",
    "# преобразование даты в формат MM/DD и промежуточная печать\n",
    "\n",
    "if len(day) == 1:\n",
    "    day = ('0' + day)\n",
    "    \n",
    "if month == 'Январь' or month == 'Juanuary':\n",
    "    month = '01'\n",
    "elif month == 'Февраль' or month == 'February':\n",
    "    month = '02'\n",
    "elif month == 'Март' or  month == \"March\":\n",
    "    month = \"03\"\n",
    "elif month == 'Апрель' or  month == \"April\":\n",
    "    month = \"04\"\n",
    "elif month == 'Май' or month == \"May\":\n",
    "    month = \"05\"\n",
    "elif month == 'Июнь' or  month == \"June\":\n",
    "    month = \"06\"\n",
    "elif month == 'Июль' or  month == \"July\":\n",
    "    month = \"07\"\n",
    "elif month == 'Август' or  month == \"August\":\n",
    "    month = \"08\"\n",
    "elif month == 'Сентябрь' or  month == \"September\":\n",
    "    month = \"09\"\n",
    "elif month == 'Октябрь' or  month == \"October\":\n",
    "    month = \"10\"\n",
    "elif month == 'Ноябрь' or  month == \"November\":\n",
    "    month = \"11\"\n",
    "elif month == 'Декабрь' or  month == \"December\":\n",
    "    month = \"12\"\n",
    "\n",
    "print(day + '/' + month)\n",
    "\n",
    "# условие по дате для определения задиака и печать результата\n",
    "    \n",
    "date = (month + \"/\" + day)\n",
    "if '03/21' <= date <= '04/20':\n",
    "    print('Aries - Овен')\n",
    "if '04/21' <= date <= '05/21':\n",
    "    print('Taurus - Телец')\n",
    "if '05/22' <= date <= '06/21':\n",
    "    print('Gemini - Близнецы')\n",
    "if '06/22' <= date <= '07/22':\n",
    "    print('Cancer - Рак')\n",
    "if '07/23' <= date <= '08/23':\n",
    "    print('Leo - Лев')\n",
    "if '08/24' <= date <= '09/23':\n",
    "    print('Vigro - Дева')\n",
    "if '09/24' <= date <= '10/23':\n",
    "    print('Libra - Весы')\n",
    "if '10/24' <= date <= '11/22':\n",
    "    print('Scorpio - Скорпион')\n",
    "if '11/23' <= date <= '12/21':\n",
    "    print('Sagittarius - Стрелец')\n",
    "if '12/22' <= date or date <= '01/20':\n",
    "    print('Capricorn - Козерог')\n",
    "if '01/21' <= date <= '02/20':\n",
    "    print('Aquarius - Водолей')\n",
    "if '02/21' <= date <= '03/20':\n",
    "    print('Cancer - Рак')\n",
    "    "
   ]
  },
  {
   "cell_type": "markdown",
   "metadata": {},
   "source": [
    "# Задание 4\n",
    "Вам нужно написать программу для подбора упаковок по размерам товара. Размеры хранятся в переменных (в сантиметрах):\n",
    "\n",
    "width = 10\n",
    "length = 205\n",
    "height = 5\n",
    "\n",
    "Используйте следующие правила:\n",
    "\n",
    "если каждое из трех измерений менее 15 сантиметров, то выведите на экран “Коробка №1”;\n",
    "если хотя бы одно из измерений больше 15 сантиметров, но менее 50 сантиметров, то выводите “Коробка №2”;\n",
    "если длина товара больше 2 метров, то выводите “Упаковка для лыж”;\n",
    "во всех остальных случаях выводите “Стандартная коробка №3”."
   ]
  },
  {
   "cell_type": "code",
   "execution_count": 4,
   "metadata": {},
   "outputs": [
    {
     "name": "stdout",
     "output_type": "stream",
     "text": [
      "enter the width in sm - 5\n",
      "enter the length in sm - 19\n",
      "enter the height in sm - 7\n",
      "box 2\n"
     ]
    }
   ],
   "source": [
    "width = int(input('enter the width in sm - '))\n",
    "length = int(input('enter the length in sm - '))\n",
    "heigth = int(input('enter the height in sm - '))\n",
    "\n",
    "\n",
    "if width < 15 and length < 15 and heigth < 15:\n",
    "    print('box 1')\n",
    "elif (15 < width < 50) or (15 < length < 50) or (15 < heigth < 50):\n",
    "    print('box 2')\n",
    "elif length > 200:\n",
    "    print('ski box')\n",
    "else:\n",
    "    print('standart box')"
   ]
  },
  {
   "cell_type": "markdown",
   "metadata": {},
   "source": [
    "# Задание 5 (необязательное)\n",
    "Дана переменная, в которой хранится шестизначное число (номер проездного билета). Напишите программу, которая будет определять, является ли данный билет “счастливым”. Билет считается счастливым, если сумма первых трех цифр совпадает с суммой последних трех цифр номера."
   ]
  },
  {
   "cell_type": "code",
   "execution_count": 2,
   "metadata": {},
   "outputs": [
    {
     "name": "stdout",
     "output_type": "stream",
     "text": [
      "enter six-digit ticket number - 165864\n",
      "common ticket\n"
     ]
    }
   ],
   "source": [
    "# если я правильно понял эту задачу удобнее решать используя списки\n",
    "# но пока еще не приступил к их изучению\n",
    "# поэтому решаю задачу с помощью арефметических операций с переменной типа integer\n",
    "\n",
    "\n",
    "# ввода номера билета\n",
    "ticket = int(input('enter six-digit ticket number - '))\n",
    "\n",
    "# выделение каждой отдельной цифры из номера билета\n",
    "d1 = ticket // 100000\n",
    "d2 = (ticket - 100000*d1) // 10000\n",
    "d3 = (ticket - (10*d1+d2)*10000) // 1000\n",
    "d4 = (ticket % 1000) // 100\n",
    "d5 = (ticket % 100) // 10\n",
    "d6 = (ticket % 100) % 10\n",
    "\n",
    "# условие на счастливый билет \n",
    "if d1+d2+d3 == d4+d5+d6:\n",
    "    print('huppy ticket')\n",
    "else:\n",
    "    print('common ticket')"
   ]
  },
  {
   "cell_type": "markdown",
   "metadata": {},
   "source": [
    "# Задание 6 (необязательное)\n",
    "Напишите программу, которая сможет вычислять площади трех фигур (круг, треугольник и прямоугольник). Тип фигуры запрашиваем через пользовательский ввод, после чего делаем запрос характеристик фигуры:\n",
    "\n",
    "если пользователь выбрал круг, запрашиваем его радиус,\n",
    "если треугольник – длины трех его сторон;\n",
    "если прямоугольник – длины двух его сторон."
   ]
  },
  {
   "cell_type": "code",
   "execution_count": 11,
   "metadata": {},
   "outputs": [
    {
     "name": "stdout",
     "output_type": "stream",
     "text": [
      "choose a figure type number - \n",
      "1 - circle\n",
      "2 - triangle\n",
      "3 - rectangle\n",
      "1\n",
      "enter the radius of the circle - \n",
      "2\n",
      "the area of the cicle =  12.56\n"
     ]
    }
   ],
   "source": [
    "# выбор типа фигуры пользователем\n",
    "print('choose a figure type number - ')\n",
    "print('1 - circle')\n",
    "print('2 - triangle')\n",
    "print('3 - rectangle')\n",
    "figure = input()\n",
    "\n",
    "# условная конструкция для подсчета площади разных фигур и вывод результата\n",
    "#круг\n",
    "if figure == '1':\n",
    "    print('enter the radius of the circle - ')\n",
    "    radius = int(input())\n",
    "    area = 3.14 * (radius**2)\n",
    "    print('the area of the cicle = ' , area)\n",
    "    \n",
    "# треугольник\n",
    "if figure == '2':\n",
    "    print('enter the length of the A side of the triangle - ')\n",
    "    a = int(input())\n",
    "    print('enter the length of the B side of the triangle - ')\n",
    "    b = int(input())\n",
    "    print('enter the length of the C side of the triangle - ')\n",
    "    c = int(input())\n",
    "    p = (a+b+c) / 2\n",
    "    area = (p*(p-a)*(p-b)*(p-c))**0.5\n",
    "    print('the area of the triangle = ' , area)\n",
    "    \n",
    "# прямоугольник\n",
    "if figure == '3':\n",
    "    a = int(input('enter the length of the A side of the rectangle - '))\n",
    "    b = int(input('enter the length of the B side of the rectangle - '))\n",
    "    area = a * b\n",
    "    print('the area of the rectangle = ' , area)\n",
    "    "
   ]
  }
 ],
 "metadata": {
  "kernelspec": {
   "display_name": "Python 3",
   "language": "python",
   "name": "python3"
  },
  "language_info": {
   "codemirror_mode": {
    "name": "ipython",
    "version": 3
   },
   "file_extension": ".py",
   "mimetype": "text/x-python",
   "name": "python",
   "nbconvert_exporter": "python",
   "pygments_lexer": "ipython3",
   "version": "3.8.5"
  }
 },
 "nbformat": 4,
 "nbformat_minor": 4
}
